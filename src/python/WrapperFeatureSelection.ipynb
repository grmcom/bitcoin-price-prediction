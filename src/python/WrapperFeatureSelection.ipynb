{
 "cells": [
  {
   "cell_type": "code",
   "execution_count": null,
   "id": "ca53dbd6-5c2a-4af2-8262-2d087435066e",
   "metadata": {},
   "outputs": [],
   "source": [
    "## Wrapper Feature selection method as outlined in Wrapper Methods (Kohavi & John, 1997)."
   ]
  },
  {
   "cell_type": "code",
   "execution_count": 3,
   "id": "35256410-036d-4127-ad9d-1a7ea6b28d44",
   "metadata": {
    "tags": []
   },
   "outputs": [
    {
     "name": "stdout",
     "output_type": "stream",
     "text": [
      "Selected features using forward selection:  ['volatility_kcli']\n",
      "Selected features using backward elimination:  ['Open', 'High', 'Low', 'Close', 'Adj Close', 'Volume', 'volume_adi', 'volume_obv', 'volume_cmf', 'volume_fi', 'volume_em', 'volume_sma_em', 'volume_vpt', 'volume_vwap', 'volume_mfi', 'volume_nvi', 'volatility_bbm', 'volatility_bbh', 'volatility_bbl', 'volatility_bbw', 'volatility_bbp', 'volatility_bbhi', 'volatility_bbli', 'volatility_kcc', 'volatility_kch', 'volatility_kcl', 'volatility_kcw', 'volatility_kcp', 'volatility_kchi', 'volatility_kcli', 'volatility_dcl', 'volatility_dch', 'volatility_dcm', 'volatility_dcw', 'volatility_dcp', 'volatility_atr', 'volatility_ui', 'trend_macd', 'trend_macd_signal', 'trend_macd_diff', 'trend_sma_fast', 'trend_sma_slow', 'trend_ema_fast', 'trend_ema_slow', 'trend_vortex_ind_pos', 'trend_vortex_ind_neg', 'trend_vortex_ind_diff', 'trend_trix', 'trend_mass_index', 'trend_dpo', 'trend_kst', 'trend_kst_sig', 'trend_kst_diff', 'trend_ichimoku_conv', 'trend_ichimoku_base', 'trend_ichimoku_a', 'trend_ichimoku_b', 'trend_stc', 'trend_adx', 'trend_adx_pos', 'trend_adx_neg', 'trend_cci', 'trend_visual_ichimoku_a', 'trend_visual_ichimoku_b', 'trend_aroon_up', 'trend_aroon_down', 'trend_aroon_ind', 'trend_psar_down', 'trend_psar_down_indicator', 'momentum_rsi', 'momentum_stoch_rsi', 'momentum_stoch_rsi_k', 'momentum_stoch_rsi_d', 'momentum_tsi', 'momentum_uo', 'momentum_stoch', 'momentum_stoch_signal', 'momentum_wr', 'momentum_ao', 'momentum_roc', 'momentum_ppo', 'momentum_ppo_signal', 'momentum_ppo_hist', 'momentum_pvo', 'momentum_pvo_signal', 'momentum_pvo_hist', 'momentum_kama', 'others_dr', 'others_dlr', 'others_cr']\n"
     ]
    }
   ],
   "source": [
    "from sklearn.ensemble import RandomForestClassifier\n",
    "from sklearn.metrics import accuracy_score\n",
    "from sklearn.model_selection import train_test_split\n",
    "import pandas as pd\n",
    "import numpy as np\n",
    "\n",
    "# Read dataset\n",
    "df = pd.read_csv('bitcoin-ta-2015.csv')\n",
    "df['Timestamp'] = pd.to_datetime(df['Timestamp'])\n",
    "\n",
    "# Create 'Target' column: 1 if the 'Close' price is higher than the previous day, 0 otherwise.\n",
    "df['Target'] = np.where(df['Close'].shift(-1) > df['Close'], 1, 0)\n",
    "df = df.select_dtypes(include=[np.number])\n",
    "\n",
    "def forward_selection(df, target_column):\n",
    "    initial_features = df.columns.tolist()\n",
    "    initial_features.remove(target_column)\n",
    "    best_features = []\n",
    "    best_score = -np.inf\n",
    "\n",
    "    while (len(initial_features)>0):\n",
    "        scores_with_candidates = []\n",
    "        for feature in initial_features:\n",
    "            candidate_features = best_features + [feature]\n",
    "            X_train, X_test, y_train, y_test = train_test_split(df[candidate_features], df[target_column], test_size=0.3, random_state=42)\n",
    "\n",
    "            model = RandomForestClassifier(n_estimators=50, random_state=42)\n",
    "            model.fit(X_train, y_train)\n",
    "            predictions = model.predict(X_test)\n",
    "            score = accuracy_score(y_test, predictions)\n",
    "\n",
    "            scores_with_candidates.append((score, feature))\n",
    "        \n",
    "        scores_with_candidates.sort()\n",
    "        best_score_new, best_feature_new = scores_with_candidates.pop()\n",
    "\n",
    "        if best_score_new > best_score:\n",
    "            best_features.append(best_feature_new)\n",
    "            best_score = best_score_new\n",
    "        else:\n",
    "            break\n",
    "\n",
    "    return best_features\n",
    "\n",
    "def backward_elimination(df, target_column):\n",
    "    features = df.columns.tolist()\n",
    "    features.remove(target_column)\n",
    "    best_score = -np.inf\n",
    "\n",
    "    while(len(features)>0):\n",
    "        scores_with_candidates = []\n",
    "        for feature in features:\n",
    "            candidate_features = list(set(features) - set([feature]))\n",
    "            X_train, X_test, y_train, y_test = train_test_split(df[candidate_features], df[target_column], test_size=0.3, random_state=42)\n",
    "\n",
    "            model = RandomForestClassifier(n_estimators=50, random_state=42)\n",
    "            model.fit(X_train, y_train)\n",
    "            predictions = model.predict(X_test)\n",
    "            score = accuracy_score(y_test, predictions)\n",
    "\n",
    "            scores_with_candidates.append((score, feature))\n",
    "        \n",
    "        scores_with_candidates.sort()\n",
    "        best_score_new, eliminated_feature_new = scores_with_candidates.pop()\n",
    "\n",
    "        if best_score_new > best_score:\n",
    "            features.remove(eliminated_feature_new)\n",
    "            best_score = best_score_new\n",
    "        else:\n",
    "            break\n",
    "\n",
    "    return features\n",
    "\n",
    "# Perform forward selection\n",
    "selected_features_forward = forward_selection(df, 'Target')\n",
    "print('Selected features using forward selection: ', selected_features_forward)\n",
    "\n",
    "# Perform backward elimination\n",
    "selected_features_backward = backward_elimination(df, 'Target')\n",
    "print('Selected features using backward elimination: ', selected_features_backward)\n"
   ]
  },
  {
   "cell_type": "code",
   "execution_count": null,
   "id": "d7c56a60-5ae5-4aa7-aed4-8b3e3fe166c1",
   "metadata": {},
   "outputs": [],
   "source": []
  }
 ],
 "metadata": {
  "kernelspec": {
   "display_name": "Python 3 (ipykernel)",
   "language": "python",
   "name": "python3"
  },
  "language_info": {
   "codemirror_mode": {
    "name": "ipython",
    "version": 3
   },
   "file_extension": ".py",
   "mimetype": "text/x-python",
   "name": "python",
   "nbconvert_exporter": "python",
   "pygments_lexer": "ipython3",
   "version": "3.11.0"
  }
 },
 "nbformat": 4,
 "nbformat_minor": 5
}
