{
 "cells": [
  {
   "cell_type": "markdown",
   "id": "90d9deb0-a040-4fde-92b4-a384b54a4591",
   "metadata": {},
   "source": [
    "## Import all required packages"
   ]
  },
  {
   "cell_type": "code",
   "execution_count": 44,
   "id": "6426bb89-de40-4dfe-96be-8ef12629ce3d",
   "metadata": {
    "tags": []
   },
   "outputs": [],
   "source": [
    "import numpy as np\n",
    "import pandas as pd\n",
    "from sklearn.preprocessing import StandardScaler, RobustScaler, MinMaxScaler\n",
    "from sklearn.model_selection import train_test_split\n",
    "from tensorflow.keras import optimizers\n",
    "from tensorflow.keras.models import Sequential\n",
    "from tensorflow.keras.layers import LSTM\n",
    "from tensorflow.keras.layers import Dense\n",
    "from tensorflow.keras.layers import Dropout\n",
    "from tensorflow.keras.layers import BatchNormalization\n",
    "from tensorflow.keras.layers import Flatten\n",
    "import tensorflow as tf\n",
    "import matplotlib.pyplot as plt\n",
    "import matplotlib.dates as mdates\n",
    "import seaborn as sns\n"
   ]
  },
  {
   "cell_type": "markdown",
   "id": "877e4bb8-05bb-427c-9cba-809a1f6086bf",
   "metadata": {},
   "source": [
    "## Create Dataframes for each dataset"
   ]
  },
  {
   "cell_type": "code",
   "execution_count": 20,
   "id": "9167a488-ebde-4902-a0cb-ff75c2215551",
   "metadata": {
    "tags": []
   },
   "outputs": [],
   "source": [
    "ta_df = pd.read_csv('../../data/bitcoin-all-technical-indicators.csv') \n",
    "ta_df['timestamp'] = pd.to_datetime(ta_df['timestamp'])\n",
    "oc_df = pd.read_csv('../../data/bitcoin-all-on-chain.csv')\n",
    "oc_df['timestamp'] = pd.to_datetime(oc_df['timestamp'])\n",
    "oc_ta_df = pd.read_csv('../../data/bitcoin-all-on-chain-and-technical-indicators.csv')\n",
    "oc_ta_df['timestamp'] = pd.to_datetime(oc_ta_df['timestamp'])\n"
   ]
  },
  {
   "cell_type": "markdown",
   "id": "7b76a133-4e7b-4201-842a-11930efa7762",
   "metadata": {},
   "source": [
    "## Visualisation function"
   ]
  },
  {
   "cell_type": "code",
   "execution_count": 39,
   "id": "2469ef87-5ac2-4445-ae02-344ed62fe743",
   "metadata": {
    "tags": []
   },
   "outputs": [],
   "source": [
    "def plot_values(timestamp, *args):\n",
    "    import matplotlib.pyplot as plt\n",
    "    import matplotlib.dates as mdates\n",
    "    import numpy as np\n",
    "    import matplotlib\n",
    "\n",
    "    if len(args) % 2 != 0:\n",
    "        raise ValueError(\"Every feature should have a corresponding name\")\n",
    "\n",
    "    # Use a predefined style\n",
    "    plt.style.use('ggplot')\n",
    "\n",
    "    # Set figure size\n",
    "    fig, ax = plt.subplots(figsize=(12,6))\n",
    "\n",
    "    # Create a colormap that will generate colors\n",
    "    colormap = matplotlib.colormaps['tab10']\n",
    "\n",
    "    # Plot data with customized line for each feature\n",
    "    for i in range(0, len(args), 2):\n",
    "        feature_name = args[i]\n",
    "        feature_values = args[i+1]\n",
    "        color = colormap(i // 2 / (len(args)//2))\n",
    "        ax.plot(timestamp, feature_values, label=feature_name, color=color, linewidth=1)\n",
    "\n",
    "    # Set labels with improved readability\n",
    "    ax.set_xlabel('Date')\n",
    "    ax.yaxis.set_label_position(\"right\") # This line moves y label to the right\n",
    "    ax.set_ylabel('Feature Values')\n",
    "    ax.yaxis.tick_right() # This line moves y axis to the right\n",
    "    ax.set_title('Features over Time')\n",
    "\n",
    "    # Format the timestamps and set locator\n",
    "    ax.xaxis.set_major_formatter(mdates.DateFormatter('%Y-%m-%d')) # format as year-month-day\n",
    "    ax.xaxis.set_major_locator(mdates.MonthLocator(interval=3)) # display a label at the start of every 3rd month\n",
    "\n",
    "    # Rotate x-axis labels for better visibility\n",
    "    plt.xticks(rotation=45)\n",
    "\n",
    "    # Add a grid\n",
    "    ax.grid(True)\n",
    "\n",
    "    # Add legend\n",
    "    ax.legend()\n",
    "\n",
    "    # Show plot\n",
    "    plt.show()\n",
    "\n",
    "    \n",
    "#plot_values(ta_df['timestamp'], 'price', ta_df['price'], 'price+500', ta_df['price']+500)"
   ]
  },
  {
   "cell_type": "markdown",
   "id": "8f568896-294e-4af8-9804-0cdc57c9bdc8",
   "metadata": {},
   "source": [
    "## Data Preperation Function"
   ]
  },
  {
   "cell_type": "code",
   "execution_count": 48,
   "id": "cfb96f4f-7e73-429f-b558-98537b516c99",
   "metadata": {
    "tags": []
   },
   "outputs": [],
   "source": [
    "def data_preperation(df, lookback, future, scale, test_size=0.2):\n",
    "    # Convert 'Date' column to datetime\n",
    "    date_train = pd.to_datetime(df['timestamp'])\n",
    "    df = df.drop(columns=['timestamp'])\n",
    "\n",
    "    # Ensure all data is float type\n",
    "    df = df.astype(float)\n",
    "\n",
    "    # Split data into training and testing before scaling\n",
    "    df_train, df_test = train_test_split(df, test_size=test_size, shuffle=False)\n",
    "\n",
    "    # Scale data\n",
    "    df_train_scaled = scale.fit_transform(df_train)\n",
    "    df_test_scaled = scale.transform(df_test)  # use the scaler fitted on the training data\n",
    "\n",
    "    # Create the feature and target arrays\n",
    "    X_train, y_train = [], []\n",
    "    for i in range(lookback, len(df_train_scaled)-future+1):\n",
    "        X_train.append(df_train_scaled[i-lookback:i, :])\n",
    "        y_train.append(df_train_scaled[i+future-1:i+future, 0])\n",
    "\n",
    "    X_test, y_test = [], []\n",
    "    for i in range(lookback, len(df_test_scaled)-future+1):\n",
    "        X_test.append(df_test_scaled[i-lookback:i, :])\n",
    "        y_test.append(df_test_scaled[i+future-1:i+future, 0])\n",
    "\n",
    "    # Convert to numpy arrays\n",
    "    X_train = np.array(X_train)\n",
    "    y_train = np.array(y_train)\n",
    "    X_test = np.array(X_test)\n",
    "    y_test = np.array(y_test)\n",
    "\n",
    "    return X_train, X_test, y_train, y_test, date_train\n",
    "\n",
    "\n",
    "#scale = StandardScaler()\n",
    "#X_train, X_test, y_train, y_test, date_train = data_preperation(ta_df, 30, 1, scale)\n",
    "\n",
    "\n"
   ]
  },
  {
   "cell_type": "code",
   "execution_count": null,
   "id": "cd6a6e1c-4cf7-481c-a800-e671cba1866f",
   "metadata": {},
   "outputs": [],
   "source": []
  }
 ],
 "metadata": {
  "kernelspec": {
   "display_name": "Python 3 (ipykernel)",
   "language": "python",
   "name": "python3"
  },
  "language_info": {
   "codemirror_mode": {
    "name": "ipython",
    "version": 3
   },
   "file_extension": ".py",
   "mimetype": "text/x-python",
   "name": "python",
   "nbconvert_exporter": "python",
   "pygments_lexer": "ipython3",
   "version": "3.11.0"
  }
 },
 "nbformat": 4,
 "nbformat_minor": 5
}
